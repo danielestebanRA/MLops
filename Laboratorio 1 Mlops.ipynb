{
 "cells": [
  {
   "cell_type": "markdown",
   "id": "fa2588a4",
   "metadata": {},
   "source": [
    "# Laboratorio de MLOps -  Ciclo de Vida del Flujo de Trabajo de ML\n",
    "\n",
    "### Objetivo General del Laboratorio\n",
    "Proporcionar experiencia práctica en la aplicación del ciclo de vida del flujo de trabajo de ML, desde la exploración y preprocesamiento de datos hasta la evaluación y mejora de modelos.\n",
    "\n",
    "### Objetivos Específicos\n",
    "1. **Exploración de Datos:** Identificar características y patrones relevantes en los datos.\n",
    "2. **Preprocesamiento de Datos:** Optimizar los datos para el modelado.\n",
    "3. **Modelado de ML:** Aplicar y evaluar un modelo de regresión lineal, comprendiendo los fundamentos del modelado.\n",
    "4. **Comparación de Modelos:** Experimentar con un metodo de aprendizaje para aprender sobre la selección y comparación de modelos.\n",
    "5. **Iteración del Modelo:** Desarrollar habilidades en la mejora continua de los modelos de ML.\n"
   ]
  },
  {
   "cell_type": "code",
   "execution_count": 1,
   "id": "16417c71",
   "metadata": {},
   "outputs": [
    {
     "name": "stdout",
     "output_type": "stream",
     "text": [
      "   longitude  latitude  housing_median_age  total_rooms  total_bedrooms  \\\n",
      "0    -114.31     34.19                15.0       5612.0          1283.0   \n",
      "1    -114.47     34.40                19.0       7650.0          1901.0   \n",
      "2    -114.56     33.69                17.0        720.0           174.0   \n",
      "3    -114.57     33.64                14.0       1501.0           337.0   \n",
      "4    -114.57     33.57                20.0       1454.0           326.0   \n",
      "\n",
      "   population  households  median_income  median_house_value  \n",
      "0      1015.0       472.0         1.4936             66900.0  \n",
      "1      1129.0       463.0         1.8200             80100.0  \n",
      "2       333.0       117.0         1.6509             85700.0  \n",
      "3       515.0       226.0         3.1917             73400.0  \n",
      "4       624.0       262.0         1.9250             65500.0  \n"
     ]
    }
   ],
   "source": [
    "import pandas as pd\n",
    "data = pd.read_csv('https://raw.githubusercontent.com/timothypesi/Data-Sets-For-Machine-Learning-/main/california_housing_train.csv')\n",
    "print(data.head())\n"
   ]
  },
  {
   "cell_type": "markdown",
   "id": "6602f484",
   "metadata": {},
   "source": [
    "Este conjunto de datos contiene información relacionada con diversas características de viviendas en diferentes áreas de California. Aquí hay una explicación de las columnas presentes en el archivo CSV:\n",
    "\n",
    "1. **longitude**: Longitud geográfica de la ubicación de la vivienda.\n",
    "2. **latitude**: Latitud geográfica de la ubicación de la vivienda.\n",
    "3. **housing_median_age**: Edad media de las viviendas en una zona específica.\n",
    "4. **total_rooms**: Número total de habitaciones en las viviendas de la zona.\n",
    "5. **total_bedrooms**: Número total de dormitorios en las viviendas de la zona.\n",
    "6. **population**: Población total en la zona.\n",
    "7. **households**: Número total de hogares en la zona.\n",
    "8. **median_income**: Ingreso medio de los hogares en la zona, expresado en unidades monetarias (dólares).\n",
    "9. **median_house_value**: Valor medio de las viviendas en la zona, expresado en unidades monetarias (dólares).\n"
   ]
  },
  {
   "cell_type": "markdown",
   "id": "e334df8b",
   "metadata": {},
   "source": [
    "## 2. Preprocesamiento de Datos\n",
    "Prepararemos los datos para el modelado, incluyendo la limpieza y la normalización."
   ]
  },
  {
   "cell_type": "markdown",
   "id": "88518c13",
   "metadata": {},
   "source": [
    "El preprocesamiento de datos es crucial porque prepara el conjunto de datos para el modelado, mejorando la precisión de las predicciones. Se limpian los datos para eliminar anomalías o valores atípicos que puedan distorsionar el resultado del modelo. La normalización (o estandarización) se realiza para escalar las características numéricas en un rango común, asegurando que ninguna característica domine a otras debido a su escala, lo que permite al modelo aprender más efectivamente las relaciones subyacentes."
   ]
  },
  {
   "cell_type": "code",
   "execution_count": 2,
   "id": "72cc9623",
   "metadata": {},
   "outputs": [],
   "source": [
    "from sklearn.model_selection import train_test_split\n",
    "from sklearn.preprocessing import StandardScaler"
   ]
  },
  {
   "cell_type": "code",
   "execution_count": 3,
   "id": "1078e6ea",
   "metadata": {},
   "outputs": [],
   "source": [
    "# Selección de características y variable objetivo\n",
    "X = data.drop('median_income', axis=1)\n",
    "y = data['median_income']\n",
    "\n",
    "# División en conjuntos de entrenamiento y prueba\n",
    "X_train, X_test, y_train, y_test = train_test_split(X, y, test_size=0.2, random_state=42)\n",
    "\n",
    "# Normalización\n",
    "scaler = StandardScaler()\n",
    "X_train_scaled = scaler.fit_transform(X_train)\n",
    "X_test_scaled = scaler.transform(X_test)\n"
   ]
  },
  {
   "cell_type": "markdown",
   "id": "749965b7",
   "metadata": {},
   "source": [
    "## 3. Modelado Básico\n",
    "Entrenaremos un modelo de regresión lineal para predecir los precios de las viviendas."
   ]
  },
  {
   "cell_type": "code",
   "execution_count": 4,
   "id": "00cf1c27",
   "metadata": {},
   "outputs": [
    {
     "data": {
      "text/html": [
       "<style>#sk-container-id-1 {color: black;}#sk-container-id-1 pre{padding: 0;}#sk-container-id-1 div.sk-toggleable {background-color: white;}#sk-container-id-1 label.sk-toggleable__label {cursor: pointer;display: block;width: 100%;margin-bottom: 0;padding: 0.3em;box-sizing: border-box;text-align: center;}#sk-container-id-1 label.sk-toggleable__label-arrow:before {content: \"▸\";float: left;margin-right: 0.25em;color: #696969;}#sk-container-id-1 label.sk-toggleable__label-arrow:hover:before {color: black;}#sk-container-id-1 div.sk-estimator:hover label.sk-toggleable__label-arrow:before {color: black;}#sk-container-id-1 div.sk-toggleable__content {max-height: 0;max-width: 0;overflow: hidden;text-align: left;background-color: #f0f8ff;}#sk-container-id-1 div.sk-toggleable__content pre {margin: 0.2em;color: black;border-radius: 0.25em;background-color: #f0f8ff;}#sk-container-id-1 input.sk-toggleable__control:checked~div.sk-toggleable__content {max-height: 200px;max-width: 100%;overflow: auto;}#sk-container-id-1 input.sk-toggleable__control:checked~label.sk-toggleable__label-arrow:before {content: \"▾\";}#sk-container-id-1 div.sk-estimator input.sk-toggleable__control:checked~label.sk-toggleable__label {background-color: #d4ebff;}#sk-container-id-1 div.sk-label input.sk-toggleable__control:checked~label.sk-toggleable__label {background-color: #d4ebff;}#sk-container-id-1 input.sk-hidden--visually {border: 0;clip: rect(1px 1px 1px 1px);clip: rect(1px, 1px, 1px, 1px);height: 1px;margin: -1px;overflow: hidden;padding: 0;position: absolute;width: 1px;}#sk-container-id-1 div.sk-estimator {font-family: monospace;background-color: #f0f8ff;border: 1px dotted black;border-radius: 0.25em;box-sizing: border-box;margin-bottom: 0.5em;}#sk-container-id-1 div.sk-estimator:hover {background-color: #d4ebff;}#sk-container-id-1 div.sk-parallel-item::after {content: \"\";width: 100%;border-bottom: 1px solid gray;flex-grow: 1;}#sk-container-id-1 div.sk-label:hover label.sk-toggleable__label {background-color: #d4ebff;}#sk-container-id-1 div.sk-serial::before {content: \"\";position: absolute;border-left: 1px solid gray;box-sizing: border-box;top: 0;bottom: 0;left: 50%;z-index: 0;}#sk-container-id-1 div.sk-serial {display: flex;flex-direction: column;align-items: center;background-color: white;padding-right: 0.2em;padding-left: 0.2em;position: relative;}#sk-container-id-1 div.sk-item {position: relative;z-index: 1;}#sk-container-id-1 div.sk-parallel {display: flex;align-items: stretch;justify-content: center;background-color: white;position: relative;}#sk-container-id-1 div.sk-item::before, #sk-container-id-1 div.sk-parallel-item::before {content: \"\";position: absolute;border-left: 1px solid gray;box-sizing: border-box;top: 0;bottom: 0;left: 50%;z-index: -1;}#sk-container-id-1 div.sk-parallel-item {display: flex;flex-direction: column;z-index: 1;position: relative;background-color: white;}#sk-container-id-1 div.sk-parallel-item:first-child::after {align-self: flex-end;width: 50%;}#sk-container-id-1 div.sk-parallel-item:last-child::after {align-self: flex-start;width: 50%;}#sk-container-id-1 div.sk-parallel-item:only-child::after {width: 0;}#sk-container-id-1 div.sk-dashed-wrapped {border: 1px dashed gray;margin: 0 0.4em 0.5em 0.4em;box-sizing: border-box;padding-bottom: 0.4em;background-color: white;}#sk-container-id-1 div.sk-label label {font-family: monospace;font-weight: bold;display: inline-block;line-height: 1.2em;}#sk-container-id-1 div.sk-label-container {text-align: center;}#sk-container-id-1 div.sk-container {/* jupyter's `normalize.less` sets `[hidden] { display: none; }` but bootstrap.min.css set `[hidden] { display: none !important; }` so we also need the `!important` here to be able to override the default hidden behavior on the sphinx rendered scikit-learn.org. See: https://github.com/scikit-learn/scikit-learn/issues/21755 */display: inline-block !important;position: relative;}#sk-container-id-1 div.sk-text-repr-fallback {display: none;}</style><div id=\"sk-container-id-1\" class=\"sk-top-container\"><div class=\"sk-text-repr-fallback\"><pre>LinearRegression()</pre><b>In a Jupyter environment, please rerun this cell to show the HTML representation or trust the notebook. <br />On GitHub, the HTML representation is unable to render, please try loading this page with nbviewer.org.</b></div><div class=\"sk-container\" hidden><div class=\"sk-item\"><div class=\"sk-estimator sk-toggleable\"><input class=\"sk-toggleable__control sk-hidden--visually\" id=\"sk-estimator-id-1\" type=\"checkbox\" checked><label for=\"sk-estimator-id-1\" class=\"sk-toggleable__label sk-toggleable__label-arrow\">LinearRegression</label><div class=\"sk-toggleable__content\"><pre>LinearRegression()</pre></div></div></div></div></div>"
      ],
      "text/plain": [
       "LinearRegression()"
      ]
     },
     "execution_count": 4,
     "metadata": {},
     "output_type": "execute_result"
    }
   ],
   "source": [
    "from sklearn.linear_model import LinearRegression\n",
    "\n",
    "model = LinearRegression()\n",
    "model.fit(X_train_scaled, y_train)"
   ]
  },
  {
   "cell_type": "markdown",
   "id": "519b237f",
   "metadata": {},
   "source": [
    "## 4. Evaluación de Modelos\n",
    "Evaluaremos el rendimiento del modelo utilizando el conjunto de prueba."
   ]
  },
  {
   "cell_type": "markdown",
   "id": "e1affb39",
   "metadata": {},
   "source": [
    "En la evaluación de modelos, usamos el conjunto de prueba para medir la capacidad del modelo de hacer predicciones precisas en datos no vistos, lo que indica su capacidad de generalización. Se emplea el Error Cuadrático Medio (MSE) como métrica porque cuantifica la diferencia entre los valores predichos y los reales, proporcionando una medida clara del rendimiento del modelo en términos de error promedio.\n",
    "\n",
    "\n",
    "\n",
    "\n",
    "\n",
    "\n"
   ]
  },
  {
   "cell_type": "code",
   "execution_count": 5,
   "id": "cc345452",
   "metadata": {},
   "outputs": [
    {
     "name": "stdout",
     "output_type": "stream",
     "text": [
      "MSE: 1.1630929819416143\n"
     ]
    }
   ],
   "source": [
    "from sklearn.metrics import mean_squared_error\n",
    "\n",
    "y_pred = model.predict(X_test_scaled)\n",
    "mse = mean_squared_error(y_test, y_pred)\n",
    "print(f'MSE: {mse}')"
   ]
  },
  {
   "cell_type": "markdown",
   "id": "666ba074",
   "metadata": {},
   "source": [
    "\n",
    "Un MSE de aproximadamente 1.163 es bastante bajo, lo que sugiere que el modelo de Random Forest tiene un rendimiento muy bueno en la tarea de regresión para la que fue entrenado"
   ]
  },
  {
   "cell_type": "code",
   "execution_count": 6,
   "id": "0f628947",
   "metadata": {},
   "outputs": [
    {
     "name": "stdout",
     "output_type": "stream",
     "text": [
      "MSE: 1.1630929819416143\n",
      "Varianza de la variable objetivo: 3.641061298632622\n",
      "Rango de la variable objetivo: 14.5002\n",
      "Relación MSE/Varianza: 0.319437901904702\n",
      "Relación MSE/Rango: 0.08021220272421169\n"
     ]
    }
   ],
   "source": [
    "# Calculando la varianza y el rango de la variable objetivo\n",
    "variance = y.var()\n",
    "data_range = y.max() - y.min()\n",
    "\n",
    "print(f'MSE: {mse}')\n",
    "print(f'Varianza de la variable objetivo: {variance}')\n",
    "print(f'Rango de la variable objetivo: {data_range}')\n",
    "\n",
    "# Comparando el MSE con la varianza y el rango\n",
    "print(f'Relación MSE/Varianza: {mse/variance}')\n",
    "print(f'Relación MSE/Rango: {mse/data_range}')\n"
   ]
  },
  {
   "cell_type": "markdown",
   "id": "b55d495b",
   "metadata": {},
   "source": [
    "La baja varianza de la variable objetivo (aproximadamente 3.641) indica que los valores de la variable objetivo están relativamente cercanos unos de otros en el conjunto de datos."
   ]
  },
  {
   "cell_type": "markdown",
   "id": "fb0ae6b7",
   "metadata": {},
   "source": [
    "El rango de la variable objetivo es de aproximadamente 14.5002, lo que sugiere una amplitud moderada en los valores de la variable objetivo en el conjunto de datos."
   ]
  },
  {
   "cell_type": "markdown",
   "id": "4c0d77b3",
   "metadata": {},
   "source": [
    "La relación MSE/Varianza es de aproximadamente 0.319, lo que indica que el MSE es una fracción significativamente baja de la variabilidad total de la variable objetivo. Esto sugiere que el modelo está haciendo predicciones muy precisas en relación con la variabilidad presente en los datos."
   ]
  },
  {
   "cell_type": "markdown",
   "id": "93749932",
   "metadata": {},
   "source": [
    "La relación MSE/Rango es de aproximadamente 0.080, lo que indica que el MSE es significativamente bajo en relación con el rango de valores de la variable objetivo. Esto sugiere que los errores del modelo son muy bajos en comparación con la amplitud de valores observados de la variable objetivo."
   ]
  },
  {
   "cell_type": "markdown",
   "id": "ef85bb30",
   "metadata": {},
   "source": [
    "## 5. Iteración del Modelo\n",
    "\n",
    "Para mejorar el modelo en la iteración, podemos ajustar hiperparámetros del algoritmo actual, como el número de iteraciones en la regresión lineal, o probar diferentes algoritmos que puedan capturar mejor la complejidad de los datos, como Random Forest o Gradient Boosting. También podríamos explorar técnicas avanzadas de preprocesamiento de datos o ingeniería de características para mejorar la precisión del modelo."
   ]
  },
  {
   "cell_type": "code",
   "execution_count": 10,
   "id": "6ba95165",
   "metadata": {},
   "outputs": [
    {
     "name": "stdout",
     "output_type": "stream",
     "text": [
      "Random Forest MSE: 0.7673869998204628\n"
     ]
    }
   ],
   "source": [
    "from sklearn.ensemble import RandomForestRegressor\n",
    "\n",
    "# Crear y entrenar el modelo de Random Forest\n",
    "rf_model = RandomForestRegressor(n_estimators=100, random_state=42)\n",
    "rf_model.fit(X_train_scaled, y_train)\n",
    "\n",
    "# Realizar predicciones con el modelo de Random Forest\n",
    "rf_pred = rf_model.predict(X_test_scaled)\n",
    "\n",
    "# Evaluar el modelo de Random Forest\n",
    "rf_mse = mean_squared_error(y_test, rf_pred)\n",
    "print(f'Random Forest MSE: {rf_mse}')\n"
   ]
  },
  {
   "cell_type": "markdown",
   "id": "cccb50d9",
   "metadata": {},
   "source": [
    "Esto sugiere que el modelo está capturando efectivamente las relaciones y patrones en los datos, y está haciendo predicciones muy precisas."
   ]
  },
  {
   "cell_type": "code",
   "execution_count": 8,
   "id": "c3623e2a",
   "metadata": {},
   "outputs": [
    {
     "name": "stdout",
     "output_type": "stream",
     "text": [
      "SVM MSE: 0.7562869151860064\n"
     ]
    }
   ],
   "source": [
    "from sklearn.svm import SVR\n",
    "\n",
    "\n",
    "# Crear y escalar los conjuntos de datos de entrenamiento y prueba\n",
    "scaler = StandardScaler()\n",
    "X_train_scaled = scaler.fit_transform(X_train)\n",
    "X_test_scaled = scaler.transform(X_test)\n",
    "\n",
    "# Crear y entrenar el modelo SVM de regresión\n",
    "svm_model = SVR(kernel='rbf', C=1.0, epsilon=0.1)\n",
    "svm_model.fit(X_train_scaled, y_train)\n",
    "\n",
    "# Realizar predicciones con el modelo SVM de regresión\n",
    "svm_pred = svm_model.predict(X_test_scaled)\n",
    "\n",
    "# Evaluar el modelo SVM de regresión\n",
    "svm_mse = mean_squared_error(y_test, svm_pred)\n",
    "print(f'SVM MSE: {svm_mse}')"
   ]
  },
  {
   "cell_type": "code",
   "execution_count": 9,
   "id": "a89bc9c6",
   "metadata": {},
   "outputs": [
    {
     "name": "stdout",
     "output_type": "stream",
     "text": [
      "Gradient Boosting MSE: 0.7951002869488041\n"
     ]
    }
   ],
   "source": [
    "from sklearn.ensemble import GradientBoostingRegressor\n",
    "\n",
    "# Crear y entrenar el modelo Gradient Boosting Regressor\n",
    "gb_model = GradientBoostingRegressor(n_estimators=100, learning_rate=0.1, random_state=42)\n",
    "gb_model.fit(X_train_scaled, y_train)\n",
    "\n",
    "# Realizar predicciones con el modelo Gradient Boosting Regressor\n",
    "gb_pred = gb_model.predict(X_test_scaled)\n",
    "\n",
    "# Evaluar el modelo Gradient Boosting Regressor\n",
    "gb_mse = mean_squared_error(y_test, gb_pred)\n",
    "print(f'Gradient Boosting MSE: {gb_mse}')\n"
   ]
  },
  {
   "cell_type": "markdown",
   "id": "2d338d0c",
   "metadata": {},
   "source": [
    "Es útil comparar el MSE del modelo de Gradient Boosting con los MSE de otros modelos que has evaluado, como el Random Forest y SVM. Si bien el MSE es una métrica importante, también es importante considerar otros aspectos del modelo, como la complejidad, el tiempo de entrenamiento y la capacidad de generalización."
   ]
  },
  {
   "cell_type": "markdown",
   "id": "7ee6ae39",
   "metadata": {},
   "source": [
    "En general, todos los modelos tienen MSEs relativamente bajos, lo que sugiere que son capaces de hacer predicciones precisas en la tarea de regresión para la que fueron entrenados. Sin embargo, el modelo SVM muestra el mejor rendimiento en términos de MSE en este conjunto de datos específico. Es importante tener en cuenta que la elección del mejor modelo también puede depender de otros factores, como la interpretabilidad, la complejidad del modelo y los requisitos de tiempo de ejecución."
   ]
  },
  {
   "cell_type": "code",
   "execution_count": null,
   "id": "735633f2",
   "metadata": {},
   "outputs": [],
   "source": []
  }
 ],
 "metadata": {
  "kernelspec": {
   "display_name": "Python 3 (ipykernel)",
   "language": "python",
   "name": "python3"
  },
  "language_info": {
   "codemirror_mode": {
    "name": "ipython",
    "version": 3
   },
   "file_extension": ".py",
   "mimetype": "text/x-python",
   "name": "python",
   "nbconvert_exporter": "python",
   "pygments_lexer": "ipython3",
   "version": "3.11.5"
  }
 },
 "nbformat": 4,
 "nbformat_minor": 5
}
